{
  "nbformat": 4,
  "nbformat_minor": 0,
  "metadata": {
    "colab": {
      "provenance": []
    },
    "kernelspec": {
      "name": "python3",
      "display_name": "Python 3"
    },
    "language_info": {
      "name": "python"
    }
  },
  "cells": [
    {
      "cell_type": "code",
      "execution_count": 1,
      "metadata": {
        "colab": {
          "base_uri": "https://localhost:8080/"
        },
        "id": "61SVfp3bCJwv",
        "outputId": "cea288ee-0ccf-496e-b47c-050630714000"
      },
      "outputs": [
        {
          "output_type": "stream",
          "name": "stdout",
          "text": [
            "Found existing installation: gym_minigrid 0.1.0\n",
            "Uninstalling gym_minigrid-0.1.0:\n",
            "  Successfully uninstalled gym_minigrid-0.1.0\n",
            "Files removed: 6\n",
            "Collecting git+https://github.com/raymondchua/gym_minigrid.git\n",
            "  Cloning https://github.com/raymondchua/gym_minigrid.git to /tmp/pip-req-build-3f7bmtnu\n",
            "  Running command git clone --filter=blob:none --quiet https://github.com/raymondchua/gym_minigrid.git /tmp/pip-req-build-3f7bmtnu\n",
            "  Resolved https://github.com/raymondchua/gym_minigrid.git to commit 330f77b4370a302aa58f4ce073e8a9a6699d458a\n",
            "  Installing build dependencies ... \u001b[?25l\u001b[?25hdone\n",
            "  Getting requirements to build wheel ... \u001b[?25l\u001b[?25hdone\n",
            "  Preparing metadata (pyproject.toml) ... \u001b[?25l\u001b[?25hdone\n",
            "Collecting gym>=0.26 (from gym_minigrid==0.1.0)\n",
            "  Downloading gym-0.26.2.tar.gz (721 kB)\n",
            "\u001b[2K     \u001b[90m━━━━━━━━━━━━━━━━━━━━━━━━━━━━━━━━━━━━━━\u001b[0m \u001b[32m721.7/721.7 kB\u001b[0m \u001b[31m12.7 MB/s\u001b[0m eta \u001b[36m0:00:00\u001b[0m\n",
            "\u001b[?25h  Installing build dependencies ... \u001b[?25l\u001b[?25hdone\n",
            "  Getting requirements to build wheel ... \u001b[?25l\u001b[?25hdone\n",
            "  Preparing metadata (pyproject.toml) ... \u001b[?25l\u001b[?25hdone\n",
            "Collecting numpy (from gym_minigrid==0.1.0)\n",
            "  Downloading numpy-2.2.6-cp311-cp311-manylinux_2_17_x86_64.manylinux2014_x86_64.whl.metadata (62 kB)\n",
            "\u001b[2K     \u001b[90m━━━━━━━━━━━━━━━━━━━━━━━━━━━━━━━━━━━━━━━\u001b[0m \u001b[32m62.0/62.0 kB\u001b[0m \u001b[31m105.5 MB/s\u001b[0m eta \u001b[36m0:00:00\u001b[0m\n",
            "\u001b[?25hCollecting cloudpickle>=1.2.0 (from gym>=0.26->gym_minigrid==0.1.0)\n",
            "  Downloading cloudpickle-3.1.1-py3-none-any.whl.metadata (7.1 kB)\n",
            "Collecting gym_notices>=0.0.4 (from gym>=0.26->gym_minigrid==0.1.0)\n",
            "  Downloading gym_notices-0.0.8-py3-none-any.whl.metadata (1.0 kB)\n",
            "Downloading numpy-2.2.6-cp311-cp311-manylinux_2_17_x86_64.manylinux2014_x86_64.whl (16.8 MB)\n",
            "\u001b[2K   \u001b[90m━━━━━━━━━━━━━━━━━━━━━━━━━━━━━━━━━━━━━━━━\u001b[0m \u001b[32m16.8/16.8 MB\u001b[0m \u001b[31m220.2 MB/s\u001b[0m eta \u001b[36m0:00:00\u001b[0m\n",
            "\u001b[?25hDownloading cloudpickle-3.1.1-py3-none-any.whl (20 kB)\n",
            "Downloading gym_notices-0.0.8-py3-none-any.whl (3.0 kB)\n",
            "Building wheels for collected packages: gym_minigrid, gym\n",
            "  Building wheel for gym_minigrid (pyproject.toml) ... \u001b[?25l\u001b[?25hdone\n",
            "  Created wheel for gym_minigrid: filename=gym_minigrid-0.1.0-py3-none-any.whl size=81789 sha256=71657d237add2778718f81d2b2c32791585293252f9461e906a788a7dfaaac5d\n",
            "  Stored in directory: /tmp/pip-ephem-wheel-cache-ifxs2rv5/wheels/83/f2/2c/442c76cd57d6a411af334272e6f1d038e725bcb7665abebbb7\n",
            "  Building wheel for gym (pyproject.toml) ... \u001b[?25l\u001b[?25hdone\n",
            "  Created wheel for gym: filename=gym-0.26.2-py3-none-any.whl size=827728 sha256=e722f7c005199afcc274706bc3d7ddad94af0bbdd75ed2c3c3588c2c66def54a\n",
            "  Stored in directory: /tmp/pip-ephem-wheel-cache-ifxs2rv5/wheels/1c/77/9e/9af5470201a0b0543937933ee99ba884cd237d2faefe8f4d37\n",
            "Successfully built gym_minigrid gym\n",
            "Installing collected packages: gym_notices, numpy, cloudpickle, gym, gym_minigrid\n",
            "  Attempting uninstall: gym_notices\n",
            "    Found existing installation: gym-notices 0.0.8\n",
            "    Uninstalling gym-notices-0.0.8:\n",
            "      Successfully uninstalled gym-notices-0.0.8\n",
            "  Attempting uninstall: numpy\n",
            "    Found existing installation: numpy 2.2.6\n",
            "    Uninstalling numpy-2.2.6:\n",
            "      Successfully uninstalled numpy-2.2.6\n",
            "  Attempting uninstall: cloudpickle\n",
            "    Found existing installation: cloudpickle 3.1.1\n",
            "    Uninstalling cloudpickle-3.1.1:\n",
            "      Successfully uninstalled cloudpickle-3.1.1\n",
            "  Attempting uninstall: gym\n",
            "    Found existing installation: gym 0.26.2\n",
            "    Uninstalling gym-0.26.2:\n",
            "      Successfully uninstalled gym-0.26.2\n",
            "\u001b[31mERROR: pip's dependency resolver does not currently take into account all the packages that are installed. This behaviour is the source of the following dependency conflicts.\n",
            "tensorflow 2.18.0 requires numpy<2.1.0,>=1.26.0, but you have numpy 2.2.6 which is incompatible.\n",
            "dopamine-rl 4.1.2 requires gym<=0.25.2, but you have gym 0.26.2 which is incompatible.\n",
            "numba 0.60.0 requires numpy<2.1,>=1.22, but you have numpy 2.2.6 which is incompatible.\u001b[0m\u001b[31m\n",
            "\u001b[0mSuccessfully installed cloudpickle-3.1.1 gym-0.26.2 gym_minigrid-0.1.0 gym_notices-0.0.8 numpy-2.2.6\n"
          ]
        }
      ],
      "source": [
        "!pip uninstall gym_minigrid -y\n",
        "!pip cache purge\n",
        "!pip install --force-reinstall --no-cache-dir git+https://github.com/raymondchua/gym_minigrid.git\n"
      ]
    },
    {
      "cell_type": "code",
      "source": [
        "import gym_minigrid\n",
        "import gym"
      ],
      "metadata": {
        "id": "OVZTRvK4Dg3P"
      },
      "execution_count": 2,
      "outputs": []
    },
    {
      "cell_type": "code",
      "source": [
        "import gym_minigrid.wrappers as wrappers"
      ],
      "metadata": {
        "id": "dzpA1xTrHJtf"
      },
      "execution_count": 6,
      "outputs": []
    },
    {
      "cell_type": "code",
      "source": [
        "game = \"MiniGrid-Empty-5x5-env1-v0\"\n",
        "env = wrappers.ImgObsWrapper(wrappers.RGBImgPartialObsWrapper(gym.make(game, disable_env_checker=True), tile_size=32))"
      ],
      "metadata": {
        "id": "9dDoUUcvEncP"
      },
      "execution_count": 8,
      "outputs": []
    },
    {
      "cell_type": "code",
      "source": [
        "obs = env.reset()\n",
        "print(obs)"
      ],
      "metadata": {
        "colab": {
          "base_uri": "https://localhost:8080/"
        },
        "id": "cN5RweFMHhEH",
        "outputId": "02670b4a-a080-4ac7-feb7-938b2227d56b"
      },
      "execution_count": 12,
      "outputs": [
        {
          "output_type": "stream",
          "name": "stdout",
          "text": [
            "(array([[[146, 146, 146],\n",
            "        [146, 146, 146],\n",
            "        [146, 146, 146],\n",
            "        ...,\n",
            "        [146, 146, 146],\n",
            "        [146, 146, 146],\n",
            "        [146, 146, 146]],\n",
            "\n",
            "       [[146, 146, 146],\n",
            "        [146, 146, 146],\n",
            "        [146, 146, 146],\n",
            "        ...,\n",
            "        [146, 146, 146],\n",
            "        [146, 146, 146],\n",
            "        [146, 146, 146]],\n",
            "\n",
            "       [[146, 146, 146],\n",
            "        [146, 146, 146],\n",
            "        [146, 146, 146],\n",
            "        ...,\n",
            "        [146, 146, 146],\n",
            "        [146, 146, 146],\n",
            "        [146, 146, 146]],\n",
            "\n",
            "       ...,\n",
            "\n",
            "       [[146, 146, 146],\n",
            "        [146, 146, 146],\n",
            "        [146, 146, 146],\n",
            "        ...,\n",
            "        [ 76,  76,  76],\n",
            "        [ 76,  76,  76],\n",
            "        [ 76,  76,  76]],\n",
            "\n",
            "       [[146, 146, 146],\n",
            "        [146, 146, 146],\n",
            "        [146, 146, 146],\n",
            "        ...,\n",
            "        [ 76,  76,  76],\n",
            "        [ 76,  76,  76],\n",
            "        [ 76,  76,  76]],\n",
            "\n",
            "       [[146, 146, 146],\n",
            "        [146, 146, 146],\n",
            "        [146, 146, 146],\n",
            "        ...,\n",
            "        [ 76,  76,  76],\n",
            "        [ 76,  76,  76],\n",
            "        [ 76,  76,  76]]], shape=(224, 224, 3), dtype=uint8), {'agent_pos': array([5, 2]), 'agent_dir': np.int64(1)})\n"
          ]
        }
      ]
    }
  ]
}